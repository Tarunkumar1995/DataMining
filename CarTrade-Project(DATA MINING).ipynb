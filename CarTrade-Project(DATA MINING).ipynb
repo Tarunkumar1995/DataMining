{
 "cells": [
  {
   "cell_type": "markdown",
   "metadata": {},
   "source": [
    "##  Extraction of  data on the CarTrade website.\n",
    "- The extarction of the data is done on Used cars.\n",
    "- The data is collected on top 10 cities.\n",
    "- New Delhi,Mumbai,Banglore,Pune,Chennai,Kolkata,Hyderabad,Ahmedabad,Noida,Gurgoan"
   ]
  },
  {
   "cell_type": "code",
   "execution_count": null,
   "metadata": {},
   "outputs": [],
   "source": [
    "import requests\n",
    "from bs4 import BeautifulSoup\n",
    "from selenium import webdriver\n",
    "chrome_path=r\"\\Users\\TArun KUmar\\Downloads\\chromedriver\"\n",
    "driver=webdriver.Chrome(chrome_path)"
   ]
  },
  {
   "cell_type": "markdown",
   "metadata": {},
   "source": [
    "###  Looping through all the car links inside every page  of each city.\n"
   ]
  },
  {
   "cell_type": "code",
   "execution_count": null,
   "metadata": {
    "scrolled": true
   },
   "outputs": [],
   "source": [
    "import numpy as np\n",
    "Company=[]\n",
    "Price=[]\n",
    "Model=[]\n",
    "Location=[]\n",
    "Fuel_type=[]\n",
    "Kilometers_used=[]\n",
    "Color=[]\n",
    "Owner=[]\n",
    "Date_of_Registration=[]\n",
    "\n",
    "driver.get(\"https://www.cartrade.com/buy-used-cars/gurgaon/c\")          #MAIN PAGE URL\n",
    "for pages in np.arange(1,26):                                           #LOOPING A MAIN PAGE URL TO GET ALL THE NEXT PAGES\n",
    "    Current_url_Page=driver.current_url;\n",
    "    print(\"Current Page Link :\",Current_url_Page)\n",
    "    link=requests.get(Current_url_Page)\n",
    "    soup=BeautifulSoup(link.text)\n",
    "    tags = soup.find_all('h2',class_='h2heading')\n",
    "    for i in tags:                           #LOOPING ALL THE CAR LINKS IN EVERY SINGLE PAGE\n",
    "        Page_car_links=\"https://www.cartrade.com\"+i.find_all(\"a\")[0].get('href')\n",
    "        print(\"Car Page Links in Current Page:\", Page_car_links)\n",
    "        url=requests.get(Page_car_links)\n",
    "        soup=BeautifulSoup(url.text)\n",
    "        data=soup.find_all('div',class_=\"v_details\")\n",
    "        c=data[0].find_all('span')    #COMPANY\n",
    "        p=data[0].find_all('span')    #PRICE\n",
    "        m=data[0].find_all('span')    #MODEL\n",
    "        l=data[0].find_all('td')      #LOCATION\n",
    "        f=data[0].find_all('td')      #FUEL TYPE\n",
    "        k=data[0].find_all('td')      #KILOMETERS USED\n",
    "        color=data[0].find_all('td')  #COLOR\n",
    "        o=data[0].find_all('td')      #OWNER\n",
    "        manu=data[0].find_all('td')   #DATE OF REGISTRATION\n",
    "        if len(c)==0:\n",
    "            Company.append(np.nan)\n",
    "        else:\n",
    "            c=c[2].text\n",
    "            Company.append(c)        #APPENDING TO EMPTY LIST\n",
    "   \n",
    "        if len(p)==0:\n",
    "            Price.append(np.nan)\n",
    "        else:\n",
    "            p=p[1].text\n",
    "            Price.append(p)\n",
    "        if len(m)==0:\n",
    "            Model.append(np.nan)\n",
    "        else:\n",
    "            m=m[3].text\n",
    "            Model.append(m)\n",
    "        if len(l)==0:\n",
    "            Location.append(np.nan)\n",
    "        else:\n",
    "            l=l[1].text\n",
    "            Location.append(l)\n",
    "        if len(f)==0:\n",
    "            Fuel_type.append(np.nan)\n",
    "        else:\n",
    "            f=f[3].text\n",
    "            Fuel_type.append(f)\n",
    "        if len(k)==0:\n",
    "            Kilometers_used.append(np.nan)\n",
    "        else:\n",
    "            k=k[5].text\n",
    "            Kilometers_used.append(k)\n",
    "        if len(color)==0:\n",
    "            Color.append(np.nan)\n",
    "        else:\n",
    "            color=color[7].text\n",
    "            Color.append(color)\n",
    "        if len(o)==0:\n",
    "            Owner.append(np.nan)\n",
    "        else:\n",
    "            owner=o[9].text\n",
    "            Owner.append(owner)\n",
    "        if len(manu)==0:\n",
    "            Date_of_Registration.append(np.nan)\n",
    "        else:\n",
    "            man=manu[19].text\n",
    "            Date_of_Registration.append(man)\n",
    "    driver.find_element_by_css_selector('#buypage2 > div > ul > li.next > a').click()   #SWITCH INTO NEXT PAGE  \n",
    "\n",
    "        "
   ]
  },
  {
   "cell_type": "code",
   "execution_count": null,
   "metadata": {},
   "outputs": [],
   "source": [
    "len(Company)"
   ]
  },
  {
   "cell_type": "code",
   "execution_count": null,
   "metadata": {},
   "outputs": [],
   "source": [
    "len(Price)"
   ]
  },
  {
   "cell_type": "code",
   "execution_count": null,
   "metadata": {},
   "outputs": [],
   "source": [
    "len(Color)"
   ]
  },
  {
   "cell_type": "code",
   "execution_count": null,
   "metadata": {},
   "outputs": [],
   "source": [
    "len(Fuel_type)"
   ]
  },
  {
   "cell_type": "code",
   "execution_count": null,
   "metadata": {},
   "outputs": [],
   "source": [
    "len(Owner)"
   ]
  },
  {
   "cell_type": "code",
   "execution_count": null,
   "metadata": {},
   "outputs": [],
   "source": [
    "len(Model)"
   ]
  },
  {
   "cell_type": "code",
   "execution_count": null,
   "metadata": {},
   "outputs": [],
   "source": [
    "len(Kilometers_used)"
   ]
  },
  {
   "cell_type": "code",
   "execution_count": null,
   "metadata": {},
   "outputs": [],
   "source": [
    "len(Manufacture_date)"
   ]
  },
  {
   "cell_type": "code",
   "execution_count": null,
   "metadata": {},
   "outputs": [],
   "source": [
    "len(Location)"
   ]
  },
  {
   "cell_type": "markdown",
   "metadata": {},
   "source": [
    "### Converting into DataFrame and then into csv file"
   ]
  },
  {
   "cell_type": "code",
   "execution_count": 1,
   "metadata": {},
   "outputs": [],
   "source": [
    "import pandas as pd"
   ]
  },
  {
   "cell_type": "code",
   "execution_count": null,
   "metadata": {},
   "outputs": [],
   "source": [
    "df=pd.DataFrame({\"Company\":Company,'Price':Price,'Color':Color,'Fuel_type':Fuel_type,'Owner':Owner,'Model':Model,'Kilometers_used':Kilometers_used,'Date_of_Registration':Date_of_Registration,'Location':Location})"
   ]
  },
  {
   "cell_type": "code",
   "execution_count": null,
   "metadata": {},
   "outputs": [],
   "source": [
    "df.to_csv('Gurgoan.csv',index=False)"
   ]
  },
  {
   "cell_type": "markdown",
   "metadata": {},
   "source": [
    "###  Extracting the data on single city Individually."
   ]
  },
  {
   "cell_type": "code",
   "execution_count": null,
   "metadata": {},
   "outputs": [],
   "source": [
    "# import requests\n",
    "# url=requests.get('https://www.cartrade.com/buy-used-cars/gurgaon/volvo/xc40/4284130.html') #URL OF CAR LINK PAGE"
   ]
  },
  {
   "cell_type": "code",
   "execution_count": null,
   "metadata": {},
   "outputs": [],
   "source": [
    "# from bs4 import BeautifulSoup\n",
    "# soup=BeautifulSoup(url.text)"
   ]
  },
  {
   "cell_type": "code",
   "execution_count": null,
   "metadata": {},
   "outputs": [],
   "source": [
    "# soup.find_all('div',class_=\"v_details\")[0].find_all('span')[1].text #Price\n",
    "\n",
    "# soup.find_all('div',class_=\"v_details\")[0].find_all('span')[2].text #Company\n",
    "\n",
    "# soup.find_all('div',class_=\"v_details\")[0].find_all('span')[3].text #MOdel\n",
    "\n",
    "# soup.find_all('div',class_=\"v_details\")[0].find_all('td')[1].text #Location\n",
    "\n",
    "# soup.find_all('div',class_=\"v_details\")[0].find_all('td')[3].text #fuel type\n",
    "\n",
    "# soup.find_all('div',class_=\"v_details\")[0].find_all('td')[5].text #Kilometers used\n",
    "\n",
    "# soup.find_all('div',class_=\"v_details\")[0].find_all('td')[7].text #color\n",
    "\n",
    "# soup.find_all('div',class_=\"v_details\")[0].find_all('td')[9].text #Owner\n",
    "\n",
    "# soup.find_all('div',class_=\"v_details\")[0].find_all('td')[19].text ##Date of Registration"
   ]
  },
  {
   "cell_type": "code",
   "execution_count": null,
   "metadata": {},
   "outputs": [],
   "source": [
    "# url1=\"https://www.cartrade.com/buy-used-cars/new-delhi/c\" #MAIN  PAGE URL\n",
    "# link=requests.get(url1)"
   ]
  },
  {
   "cell_type": "code",
   "execution_count": null,
   "metadata": {},
   "outputs": [],
   "source": [
    "# soup=BeautifulSoup(link.text)\n",
    "# soup"
   ]
  },
  {
   "cell_type": "code",
   "execution_count": null,
   "metadata": {},
   "outputs": [],
   "source": [
    "# tags = soup.find_all('h2',class_='h2heading')           #EXTRACTING THE LINKS OF CAR OF EVERY PAGE\n",
    "# for i in tags:                                 \n",
    "#     link=\"https://www.cartrade.com\"+i.find_all(\"a\")[0].get('href')\n",
    "#     print(link)"
   ]
  }
 ],
 "metadata": {
  "kernelspec": {
   "display_name": "Python 3",
   "language": "python",
   "name": "python3"
  },
  "language_info": {
   "codemirror_mode": {
    "name": "ipython",
    "version": 3
   },
   "file_extension": ".py",
   "mimetype": "text/x-python",
   "name": "python",
   "nbconvert_exporter": "python",
   "pygments_lexer": "ipython3",
   "version": "3.7.6"
  }
 },
 "nbformat": 4,
 "nbformat_minor": 2
}
